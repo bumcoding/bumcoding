{
  "nbformat": 4,
  "nbformat_minor": 0,
  "metadata": {
    "colab": {
      "provenance": [],
      "gpuType": "T4",
      "authorship_tag": "ABX9TyPyoqWsQlkdtaO8LS3/9y24",
      "include_colab_link": true
    },
    "kernelspec": {
      "name": "python3",
      "display_name": "Python 3"
    },
    "language_info": {
      "name": "python"
    },
    "accelerator": "GPU"
  },
  "cells": [
    {
      "cell_type": "markdown",
      "metadata": {
        "id": "view-in-github",
        "colab_type": "text"
      },
      "source": [
        "<a href=\"https://colab.research.google.com/github/bumcoding/bumcoding/blob/main/TorchStudy.ipynb\" target=\"_parent\"><img src=\"https://colab.research.google.com/assets/colab-badge.svg\" alt=\"Open In Colab\"/></a>"
      ]
    },
    {
      "cell_type": "code",
      "execution_count": 1,
      "metadata": {
        "colab": {
          "base_uri": "https://localhost:8080/",
          "height": 35
        },
        "id": "lfzedMct9cZN",
        "outputId": "ab48e668-0ff4-46db-ef09-ce200e7a52cc"
      },
      "outputs": [
        {
          "output_type": "execute_result",
          "data": {
            "text/plain": [
              "'2.6.0+cu124'"
            ],
            "application/vnd.google.colaboratory.intrinsic+json": {
              "type": "string"
            }
          },
          "metadata": {},
          "execution_count": 1
        }
      ],
      "source": [
        "#torch : 메인 네임스페이스, 텐서 등의 다양한 수학 함수 포함\n",
        "#torch.autograd : 자동 미분 기능을 제공하는 라이브러리\n",
        "#torch.nn : 신경망 구축을 위한 데이터 구조나 레이어 등의 라이브러리\n",
        "#torch.multiprocessing : 병렬처리 기능을 제공하는 라이브러리\n",
        "#torch.optim : SGD(확률적 경사하강법)를 중심으로 파라미터 최적화 알고리즘 제공\n",
        "#torch.utils : 데이터 조작 등 유틸리티 기능 제공\n",
        "#torch.onnx :(Open Neural Network Exchange)서로 다른 프레임워크 간 모델을 공유\n",
        "\n",
        "import torch\n",
        "\n",
        "#텐서 버전 확인\n",
        "torch.__version__"
      ]
    },
    {
      "cell_type": "code",
      "source": [
        "#초기화 되지 않은 텐서 (랜덤한 형태의 초기화 되지 않는 값(메모리만 할당한 쓰레기 값) 생성)\n",
        "\n",
        "x = torch.empty(4, 2)\n",
        "print(x)"
      ],
      "metadata": {
        "colab": {
          "base_uri": "https://localhost:8080/"
        },
        "id": "u52gxrwL91j0",
        "outputId": "6e75ec89-0b8d-4178-881a-85a53cf73318"
      },
      "execution_count": 2,
      "outputs": [
        {
          "output_type": "stream",
          "name": "stdout",
          "text": [
            "tensor([[1.5540e-42, 4.4222e-41],\n",
            "        [0.0000e+00, 0.0000e+00],\n",
            "        [2.2421e-44, 4.4222e-41],\n",
            "        [3.1387e-27, 0.0000e+00]])\n"
          ]
        }
      ]
    },
    {
      "cell_type": "code",
      "source": [
        "#무작위로 초기화 된 텐서 (초기화 된 랜덤의 값 생성)\n",
        "\n",
        "x = torch.rand(4, 2)\n",
        "print(x)"
      ],
      "metadata": {
        "colab": {
          "base_uri": "https://localhost:8080/"
        },
        "id": "x2f6k4nm_Tfo",
        "outputId": "48162a48-370a-4d1e-9439-b8af2b6a6227"
      },
      "execution_count": 3,
      "outputs": [
        {
          "output_type": "stream",
          "name": "stdout",
          "text": [
            "tensor([[0.5727, 0.5510],\n",
            "        [0.8304, 0.3365],\n",
            "        [0.5364, 0.3905],\n",
            "        [0.2585, 0.3974]])\n"
          ]
        }
      ]
    },
    {
      "cell_type": "code",
      "source": [
        "#데이터 타입(dtype)이 long이고 0으로 채워진 텐서\n",
        "\n",
        "x = torch.zeros(4, 2, dtype=torch.long)\n",
        "print(x)"
      ],
      "metadata": {
        "colab": {
          "base_uri": "https://localhost:8080/"
        },
        "id": "2ESvptjU_aST",
        "outputId": "34d27fca-4be3-4959-a0fa-7d8fc65d37fb"
      },
      "execution_count": 4,
      "outputs": [
        {
          "output_type": "stream",
          "name": "stdout",
          "text": [
            "tensor([[0, 0],\n",
            "        [0, 0],\n",
            "        [0, 0],\n",
            "        [0, 0]])\n"
          ]
        }
      ]
    },
    {
      "cell_type": "code",
      "source": [
        "#사용자가 입력한 값으로 텐서 초기화\n",
        "\n",
        "x = torch.tensor([3, 2.3])\n",
        "torch.set_printoptions(precision=2) #소수점 2자리까지 출력\n",
        "\n",
        "print(x)"
      ],
      "metadata": {
        "colab": {
          "base_uri": "https://localhost:8080/"
        },
        "id": "UEkqc5f1_zRg",
        "outputId": "36e00de5-a2e0-4107-e371-be66238aac5f"
      },
      "execution_count": 5,
      "outputs": [
        {
          "output_type": "stream",
          "name": "stdout",
          "text": [
            "tensor([3.00, 2.30])\n"
          ]
        }
      ]
    },
    {
      "cell_type": "code",
      "source": [
        "#4x2 크기, double 타입, 1로 채워진 텐서\n",
        "\n",
        "x = torch.ones(4, 2, dtype=torch.double) # 새로운 텐서 생성\n",
        "print(x)\n",
        "\n",
        "x = x.new_ones(4, 2, dtype=torch.double) # x의 속성을 상속 받음\n",
        "\n",
        "print(x)"
      ],
      "metadata": {
        "colab": {
          "base_uri": "https://localhost:8080/"
        },
        "id": "xR7wuditBEn-",
        "outputId": "34ed3509-3067-45bd-b898-fccbcc1923a3"
      },
      "execution_count": 6,
      "outputs": [
        {
          "output_type": "stream",
          "name": "stdout",
          "text": [
            "tensor([[1., 1.],\n",
            "        [1., 1.],\n",
            "        [1., 1.],\n",
            "        [1., 1.]], dtype=torch.float64)\n",
            "tensor([[1., 1.],\n",
            "        [1., 1.],\n",
            "        [1., 1.],\n",
            "        [1., 1.]], dtype=torch.float64)\n"
          ]
        }
      ]
    },
    {
      "cell_type": "code",
      "source": [
        "#x와 같은 크기, float 타입인 무작위로 채워진 텐서\n",
        "\n",
        "x = torch.randn_like(x, dtype=float)\n",
        "\n",
        "print(x)"
      ],
      "metadata": {
        "colab": {
          "base_uri": "https://localhost:8080/"
        },
        "id": "bKNNN5rhFoVn",
        "outputId": "480ad8e7-60a1-4895-f498-012031a6cf4c"
      },
      "execution_count": 7,
      "outputs": [
        {
          "output_type": "stream",
          "name": "stdout",
          "text": [
            "tensor([[ 1.73, -0.35],\n",
            "        [-0.14, -0.33],\n",
            "        [-0.30,  0.30],\n",
            "        [-0.21,  0.39]], dtype=torch.float64)\n"
          ]
        }
      ]
    },
    {
      "cell_type": "code",
      "source": [
        "#텐서의 크기 계산\n",
        "\n",
        "print(x.size())"
      ],
      "metadata": {
        "colab": {
          "base_uri": "https://localhost:8080/"
        },
        "id": "PFU-8MVLGIUF",
        "outputId": "ef71b376-5705-4a32-a54d-c9e1a3b4b219"
      },
      "execution_count": 8,
      "outputs": [
        {
          "output_type": "stream",
          "name": "stdout",
          "text": [
            "torch.Size([4, 2])\n"
          ]
        }
      ]
    },
    {
      "cell_type": "code",
      "source": [
        "#데이터 타입 지정\n",
        "\n",
        "ft = torch.FloatTensor([1, 2, 3])\n",
        "\n",
        "print(ft)\n",
        "print(ft.dtype)"
      ],
      "metadata": {
        "colab": {
          "base_uri": "https://localhost:8080/"
        },
        "id": "ch9FYtJdGVNn",
        "outputId": "0f4776dd-0c2a-49c8-8ac0-06b4bc5fc6a4"
      },
      "execution_count": 9,
      "outputs": [
        {
          "output_type": "stream",
          "name": "stdout",
          "text": [
            "tensor([1., 2., 3.])\n",
            "torch.float32\n"
          ]
        }
      ]
    },
    {
      "cell_type": "code",
      "source": [
        "#데이터 타입 캐스팅 (디폴트 : int64(=long))\n",
        "\n",
        "print(ft.double())\n",
        "print(ft.int()) #int32로 명확히 지정\n",
        "print(ft.long())\n",
        "\n",
        "#32bit float = float\n",
        "#64bit float = double\n",
        "#18bit float = half\n",
        "#32bit int = int\n",
        "#64bit int = torch.long\n",
        "#18bit int = short"
      ],
      "metadata": {
        "colab": {
          "base_uri": "https://localhost:8080/"
        },
        "id": "IHXqsYPQIyfl",
        "outputId": "bd0d67fe-e59b-4db5-b6fd-db45a6f08901"
      },
      "execution_count": 10,
      "outputs": [
        {
          "output_type": "stream",
          "name": "stdout",
          "text": [
            "tensor([1., 2., 3.], dtype=torch.float64)\n",
            "tensor([1, 2, 3], dtype=torch.int32)\n",
            "tensor([1, 2, 3])\n"
          ]
        }
      ]
    },
    {
      "cell_type": "code",
      "source": [
        "# intTensor 사용\n",
        "\n",
        "it = torch.IntTensor([1, 2, 3])\n",
        "\n",
        "print(it)\n",
        "\n",
        "#타입 캐스팅\n",
        "print(it.float()) #현재 설정된 기본 dtype과 같으면 생략되어 출력\n",
        "print(it.double())\n",
        "print(it.short())"
      ],
      "metadata": {
        "colab": {
          "base_uri": "https://localhost:8080/"
        },
        "id": "t2ltsTTAJ9sp",
        "outputId": "aeed4fc1-9b40-423c-9830-c9b6dbcf8c77"
      },
      "execution_count": 11,
      "outputs": [
        {
          "output_type": "stream",
          "name": "stdout",
          "text": [
            "tensor([1, 2, 3], dtype=torch.int32)\n",
            "tensor([1., 2., 3.])\n",
            "tensor([1., 2., 3.], dtype=torch.float64)\n",
            "tensor([1, 2, 3], dtype=torch.int16)\n"
          ]
        }
      ]
    },
    {
      "cell_type": "code",
      "source": [
        "#CUDA Tensors\n",
        "#.to 메소드를 이용하여 텐서를 어떤 장치로 옮길 수 있음\n",
        "\n",
        "x = torch.randn(1)\n",
        "\n",
        "print(x)\n",
        "print(x.item())\n",
        "print(x.dtype)"
      ],
      "metadata": {
        "colab": {
          "base_uri": "https://localhost:8080/"
        },
        "id": "anRV8HQVKzQd",
        "outputId": "3436df64-3587-45de-b4b0-c5e6c9ce3615"
      },
      "execution_count": 12,
      "outputs": [
        {
          "output_type": "stream",
          "name": "stdout",
          "text": [
            "tensor([1.15])\n",
            "1.1520277261734009\n",
            "torch.float32\n"
          ]
        }
      ]
    },
    {
      "cell_type": "code",
      "source": [
        "device = torch.device('cuda' if torch.cuda.is_available() else 'cpu')\n",
        "#if문 필요없이 원래 cpu, cuda 중에 선언한 형태로 작동\n",
        "\n",
        "print(device)\n",
        "\n",
        "y = torch.ones_like(x, device=device)\n",
        "print(y)\n",
        "\n",
        "x = x.to(device)\n",
        "print(x)\n",
        "\n",
        "z = x+y\n",
        "print(z)\n",
        "print(z.to('cpu', torch.double))"
      ],
      "metadata": {
        "colab": {
          "base_uri": "https://localhost:8080/"
        },
        "id": "9TC1EGLeLzKu",
        "outputId": "a09d794d-32d7-424a-ea91-b63aafabc709"
      },
      "execution_count": 13,
      "outputs": [
        {
          "output_type": "stream",
          "name": "stdout",
          "text": [
            "cuda\n",
            "tensor([1.], device='cuda:0')\n",
            "tensor([1.15], device='cuda:0')\n",
            "tensor([2.15], device='cuda:0')\n",
            "tensor([2.15], dtype=torch.float64)\n"
          ]
        }
      ]
    },
    {
      "cell_type": "code",
      "source": [],
      "metadata": {
        "id": "yFuki1rYFzjz"
      },
      "execution_count": 13,
      "outputs": []
    }
  ]
}